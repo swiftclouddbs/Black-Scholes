{
 "cells": [
  {
   "cell_type": "markdown",
   "id": "30add34b-2d61-44b5-b72b-50ab5b71641e",
   "metadata": {},
   "source": [
    "Here's a separate script that fetches historical stock data and implied volatility using yfinance, then creates a dataset for 15 options with randomly selected strikes and expirations. This script will save the data to historical_options_data.csv for use in the LSTM Black-Scholes integration."
   ]
  },
  {
   "cell_type": "code",
   "execution_count": 2,
   "id": "c0074ef6-987b-4313-bd15-bfff0c3052d6",
   "metadata": {},
   "outputs": [
    {
     "name": "stdout",
     "output_type": "stream",
     "text": [
      "Saved historical_options_data.csv with 15 options.\n"
     ]
    }
   ],
   "source": [
    "import yfinance as yf\n",
    "import pandas as pd\n",
    "import numpy as np\n",
    "import random\n",
    "\n",
    "# Define stock ticker and fetch data\n",
    "ticker = \"AAPL\"  # Change to any stock symbol\n",
    "stock = yf.Ticker(ticker)\n",
    "\n",
    "# Fetch historical stock prices\n",
    "hist = stock.history(period=\"90d\")  # Last 90 days of stock data\n",
    "hist['Date'] = hist.index\n",
    "\n",
    "# Fetch options expirations\n",
    "expirations = stock.options\n",
    "if not expirations:\n",
    "    raise ValueError(\"No options data available for this ticker.\")\n",
    "\n",
    "# Select 15 random expiration dates\n",
    "selected_expirations = random.sample(expirations, min(15, len(expirations)))\n",
    "\n",
    "# Initialize data storage\n",
    "option_data = []\n",
    "\n",
    "# Fetch option chains and extract details\n",
    "for exp in selected_expirations:\n",
    "    opt_chain = stock.option_chain(exp)\n",
    "    calls = opt_chain.calls  # Get call options\n",
    "\n",
    "    # Select a random call option\n",
    "    if not calls.empty:\n",
    "        call_option = calls.sample(n=1)  # Pick one random call per expiration\n",
    "        S = hist.iloc[-1][\"Close\"]  # Latest stock price\n",
    "        K = call_option[\"strike\"].values[0]  # Strike price\n",
    "#        T = (pd.to_datetime(exp) - pd.to_datetime(hist.iloc[-1][\"Date\"])).days / 365  # Time to expiration in years\n",
    "        T = (pd.to_datetime(exp).tz_localize(None) - pd.to_datetime(hist.iloc[-1][\"Date\"]).tz_localize(None)).days / 365\n",
    "\n",
    "        r = 0.05  # Assume a 5% risk-free rate\n",
    "        sigma = call_option[\"impliedVolatility\"].values[0]  # Implied volatility\n",
    "\n",
    "        option_data.append([S, K, T, r, sigma])\n",
    "\n",
    "# Convert to DataFrame and save to CSV\n",
    "df = pd.DataFrame(option_data, columns=[\"S\", \"K\", \"T\", \"r\", \"sigma\"])\n",
    "df.to_csv(\"historical_options_data.csv\", index=False)\n",
    "\n",
    "print(\"Saved historical_options_data.csv with 15 options.\")\n"
   ]
  },
  {
   "cell_type": "markdown",
   "id": "e86ac9e7-b4aa-44e7-9311-a34feeed1aa2",
   "metadata": {},
   "source": [
    "How This Script Works\n",
    "Fetches historical stock prices for the past 90 days.\n",
    "Retrieves available option expiration dates for the given stock.\n",
    "Selects 15 random call options from different expirations.\n",
    "Extracts:\n",
    "S (Stock Price)\n",
    "K (Strike Price)\n",
    "T (Time to Expiration in Years)\n",
    "r (Risk-Free Rate, assumed 5%)\n",
    "σ (Implied Volatility)\n",
    "Saves the dataset to historical_options_data.csv.\n",
    "Next Steps\n",
    "Now you can run this script first to generate historical_options_data.csv.\n",
    "Then, use the LSTM Black-Scholes integration script to train and price options.\n",
    "\n",
    "Next Steps\n",
    "Now you can run this script first to generate historical_options_data.csv.\n",
    "Then, use the LSTM Black-Scholes integration script to train and price options.\n",
    "\n",
    "Would you like to modify this for puts, different risk-free rates, or real-time updating?"
   ]
  }
 ],
 "metadata": {
  "kernelspec": {
   "display_name": "Python 3 (ipykernel)",
   "language": "python",
   "name": "python3"
  },
  "language_info": {
   "codemirror_mode": {
    "name": "ipython",
    "version": 3
   },
   "file_extension": ".py",
   "mimetype": "text/x-python",
   "name": "python",
   "nbconvert_exporter": "python",
   "pygments_lexer": "ipython3",
   "version": "3.13.1"
  }
 },
 "nbformat": 4,
 "nbformat_minor": 5
}
