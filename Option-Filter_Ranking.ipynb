{
 "cells": [
  {
   "cell_type": "code",
   "execution_count": null,
   "id": "866048c9-6ea2-40d0-be40-a562c4e6ba8d",
   "metadata": {},
   "outputs": [],
   "source": [
    "#Script to pull out most advantageous options from a csv file."
   ]
  },
  {
   "cell_type": "code",
   "execution_count": null,
   "id": "e3e8334a-ae7e-4660-af95-1a69e674b331",
   "metadata": {},
   "outputs": [],
   "source": [
    "import numpy as np\n",
    "import pandas as pd\n",
    "import scipy.stats as si\n",
    "from numba import njit, prange\n",
    "\n",
    "# Load option data (assumes 1,000,000 options)\n",
    "# Columns: [\"Type\", \"S\", \"K\", \"T\", \"r\", \"sigma\", \"Premium\"]\n",
    "df = pd.read_csv(\"large_options_data.csv\")\n",
    "\n",
    "# Black-Scholes Formula for European Call/Put Pricing\n",
    "@njit(parallel=True)\n",
    "def black_scholes_option_value(S, K, T, r, sigma, option_type):\n",
    "    d1 = (np.log(S / K) + (r + 0.5 * sigma**2) * T) / (sigma * np.sqrt(T))\n",
    "    d2 = d1 - sigma * np.sqrt(T)\n",
    "    \n",
    "    call_price = S * si.norm.cdf(d1) - K * np.exp(-r * T) * si.norm.cdf(d2)\n",
    "    put_price = K * np.exp(-r * T) * si.norm.cdf(-d2) - S * si.norm.cdf(-d1)\n",
    "    \n",
    "    return np.where(option_type == \"call\", call_price, put_price)\n",
    "\n",
    "# Compute Intrinsic Value, Expected Profit, and Rank\n",
    "@njit(parallel=True)\n",
    "def process_options(S, K, T, r, sigma, premium, option_type):\n",
    "    option_values = black_scholes_option_value(S, K, T, r, sigma, option_type)\n",
    "    intrinsic_values = np.where(option_type == \"call\", np.maximum(S - K, 0), np.maximum(K - S, 0))\n",
    "    expected_profits = intrinsic_values - premium  # Profit if exercised\n",
    "\n",
    "    return option_values, intrinsic_values, expected_profits\n",
    "\n",
    "# Convert DataFrame to NumPy arrays for faster processing\n",
    "S = df[\"S\"].values\n",
    "K = df[\"K\"].values\n",
    "T = df[\"T\"].values\n",
    "r = df[\"r\"].values\n",
    "sigma = df[\"sigma\"].values\n",
    "premium = df[\"Premium\"].values\n",
    "option_type = df[\"Type\"].values  # \"call\" or \"put\"\n",
    "\n",
    "# Process options in parallel\n",
    "option_values, intrinsic_values, expected_profits = process_options(S, K, T, r, sigma, premium, option_type)\n",
    "\n",
    "# Add results to DataFrame\n",
    "df[\"Intrinsic_Value\"] = intrinsic_values\n",
    "df[\"Expected_Profit\"] = expected_profits\n",
    "\n",
    "# Filter only profitable (ITM) options\n",
    "df_itm = df[df[\"Expected_Profit\"] > 0]\n",
    "\n",
    "# Rank options by highest expected profit\n",
    "df_itm_sorted = df_itm.sort_values(by=\"Expected_Profit\", ascending=False)\n",
    "\n",
    "# Save top profitable options\n",
    "df_itm_sorted.to_csv(\"most_advantageous_options.csv\", index=False)\n",
    "\n",
    "print(f\"Filtered & ranked options saved to 'most_advantageous_options.csv'.\")\n"
   ]
  }
 ],
 "metadata": {
  "kernelspec": {
   "display_name": "Python 3 (ipykernel)",
   "language": "python",
   "name": "python3"
  },
  "language_info": {
   "codemirror_mode": {
    "name": "ipython",
    "version": 3
   },
   "file_extension": ".py",
   "mimetype": "text/x-python",
   "name": "python",
   "nbconvert_exporter": "python",
   "pygments_lexer": "ipython3",
   "version": "3.13.1"
  }
 },
 "nbformat": 4,
 "nbformat_minor": 5
}
